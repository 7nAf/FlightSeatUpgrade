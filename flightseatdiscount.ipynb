{
 "cells": [
  {
   "cell_type": "markdown",
   "id": "c00c5acc",
   "metadata": {},
   "source": [
    "## Flight Seat Discount\n",
    "**Validations:**\n",
    "\n",
    "* Email ID is valid\n",
    "* The mobile phone is valid\n",
    "* Ticketing date is before travel date\n",
    "* PNR is 6 characters and Is alphanumeric\n",
    "* The booked cabin is valid (one of Economy, Premium Economy,Business, First)\n",
    "\n",
    "**FareClass insights and validation error message**\n",
    "* Fare class A - E will\n",
    "have discount code OFFER_20, F - K will have discount code OFFER_30, L - R will have OFFER_25;\n",
    "rest will have no offer code\n",
    "* Each failing record should have an additional field that will contain the reason(s) for\n",
    "the validation failure."
   ]
  },
  {
   "cell_type": "code",
   "execution_count": 1,
   "id": "7a1d778d",
   "metadata": {},
   "outputs": [],
   "source": [
    "import pandas as pd\n",
    "import numpy as np\n",
    "from validate_email import validate_email\n",
    "cabin=['Economy', 'Premium Economy','Business','First']"
   ]
  },
  {
   "cell_type": "code",
   "execution_count": 2,
   "id": "309c6c60",
   "metadata": {},
   "outputs": [],
   "source": [
    "df=pd.read_csv(\"input.csv\", header=0)\n",
    "dfo=df\n",
    "reason={}"
   ]
  },
  {
   "cell_type": "code",
   "execution_count": 3,
   "id": "6fdf7856",
   "metadata": {},
   "outputs": [
    {
     "data": {
      "text/plain": [
       "<bound method DataFrame.info of   First_name Last_name     PNR Fare_class Travel_date  Pax Ticketing_date  \\\n",
       "0   Abhishek     Kumar  ABC123          F  2019-07-31    2     2019-05-21   \n",
       "1      Monin    Sankar   PQ234          C  2019-08-30    2     2019-05-22   \n",
       "2    Radhika    Suresh  ZZZ345          T  2019-05-31    4     2019-05-21   \n",
       "3    Kalyani       Ben  A1B2C3          M  2019-04-30    1     2019-05-21   \n",
       "4    Somnath     Batra  X1Y2Z4          Z  2019-07-25    3     2019-05-23   \n",
       "\n",
       "              Email  Mobile_phone    Booked_cabin  \n",
       "0  abhishek@zzz.com    9876543210         Economy  \n",
       "1     monin@zzz.com    9876543211         Economy  \n",
       "2       radhika@zzz    9876543212        Business  \n",
       "3    ​kben@zzz.com​    9876543213  PremiumEconomy  \n",
       "4    sbatra@zzz.com    9876543214         Economy  >"
      ]
     },
     "execution_count": 3,
     "metadata": {},
     "output_type": "execute_result"
    }
   ],
   "source": [
    "df.info"
   ]
  },
  {
   "cell_type": "code",
   "execution_count": 4,
   "id": "765aa5f5",
   "metadata": {},
   "outputs": [
    {
     "data": {
      "text/html": [
       "<div>\n",
       "<style scoped>\n",
       "    .dataframe tbody tr th:only-of-type {\n",
       "        vertical-align: middle;\n",
       "    }\n",
       "\n",
       "    .dataframe tbody tr th {\n",
       "        vertical-align: top;\n",
       "    }\n",
       "\n",
       "    .dataframe thead th {\n",
       "        text-align: right;\n",
       "    }\n",
       "</style>\n",
       "<table border=\"1\" class=\"dataframe\">\n",
       "  <thead>\n",
       "    <tr style=\"text-align: right;\">\n",
       "      <th></th>\n",
       "      <th>First_name</th>\n",
       "      <th>Last_name</th>\n",
       "      <th>PNR</th>\n",
       "      <th>Fare_class</th>\n",
       "      <th>Travel_date</th>\n",
       "      <th>Pax</th>\n",
       "      <th>Ticketing_date</th>\n",
       "      <th>Email</th>\n",
       "      <th>Mobile_phone</th>\n",
       "      <th>Booked_cabin</th>\n",
       "    </tr>\n",
       "  </thead>\n",
       "  <tbody>\n",
       "    <tr>\n",
       "      <th>0</th>\n",
       "      <td>Abhishek</td>\n",
       "      <td>Kumar</td>\n",
       "      <td>ABC123</td>\n",
       "      <td>F</td>\n",
       "      <td>2019-07-31</td>\n",
       "      <td>2</td>\n",
       "      <td>2019-05-21</td>\n",
       "      <td>abhishek@zzz.com</td>\n",
       "      <td>9876543210</td>\n",
       "      <td>Economy</td>\n",
       "    </tr>\n",
       "    <tr>\n",
       "      <th>1</th>\n",
       "      <td>Monin</td>\n",
       "      <td>Sankar</td>\n",
       "      <td>PQ234</td>\n",
       "      <td>C</td>\n",
       "      <td>2019-08-30</td>\n",
       "      <td>2</td>\n",
       "      <td>2019-05-22</td>\n",
       "      <td>monin@zzz.com</td>\n",
       "      <td>9876543211</td>\n",
       "      <td>Economy</td>\n",
       "    </tr>\n",
       "    <tr>\n",
       "      <th>2</th>\n",
       "      <td>Radhika</td>\n",
       "      <td>Suresh</td>\n",
       "      <td>ZZZ345</td>\n",
       "      <td>T</td>\n",
       "      <td>2019-05-31</td>\n",
       "      <td>4</td>\n",
       "      <td>2019-05-21</td>\n",
       "      <td>radhika@zzz</td>\n",
       "      <td>9876543212</td>\n",
       "      <td>Business</td>\n",
       "    </tr>\n",
       "    <tr>\n",
       "      <th>3</th>\n",
       "      <td>Kalyani</td>\n",
       "      <td>Ben</td>\n",
       "      <td>A1B2C3</td>\n",
       "      <td>M</td>\n",
       "      <td>2019-04-30</td>\n",
       "      <td>1</td>\n",
       "      <td>2019-05-21</td>\n",
       "      <td>​kben@zzz.com​</td>\n",
       "      <td>9876543213</td>\n",
       "      <td>PremiumEconomy</td>\n",
       "    </tr>\n",
       "    <tr>\n",
       "      <th>4</th>\n",
       "      <td>Somnath</td>\n",
       "      <td>Batra</td>\n",
       "      <td>X1Y2Z4</td>\n",
       "      <td>Z</td>\n",
       "      <td>2019-07-25</td>\n",
       "      <td>3</td>\n",
       "      <td>2019-05-23</td>\n",
       "      <td>sbatra@zzz.com</td>\n",
       "      <td>9876543214</td>\n",
       "      <td>Economy</td>\n",
       "    </tr>\n",
       "  </tbody>\n",
       "</table>\n",
       "</div>"
      ],
      "text/plain": [
       "  First_name Last_name     PNR Fare_class Travel_date  Pax Ticketing_date  \\\n",
       "0   Abhishek     Kumar  ABC123          F  2019-07-31    2     2019-05-21   \n",
       "1      Monin    Sankar   PQ234          C  2019-08-30    2     2019-05-22   \n",
       "2    Radhika    Suresh  ZZZ345          T  2019-05-31    4     2019-05-21   \n",
       "3    Kalyani       Ben  A1B2C3          M  2019-04-30    1     2019-05-21   \n",
       "4    Somnath     Batra  X1Y2Z4          Z  2019-07-25    3     2019-05-23   \n",
       "\n",
       "              Email  Mobile_phone    Booked_cabin  \n",
       "0  abhishek@zzz.com    9876543210         Economy  \n",
       "1     monin@zzz.com    9876543211         Economy  \n",
       "2       radhika@zzz    9876543212        Business  \n",
       "3    ​kben@zzz.com​    9876543213  PremiumEconomy  \n",
       "4    sbatra@zzz.com    9876543214         Economy  "
      ]
     },
     "execution_count": 4,
     "metadata": {},
     "output_type": "execute_result"
    }
   ],
   "source": [
    "df.head()"
   ]
  },
  {
   "cell_type": "markdown",
   "id": "c06cd230",
   "metadata": {},
   "source": [
    "# Validation Steps"
   ]
  },
  {
   "cell_type": "code",
   "execution_count": 5,
   "id": "d76fe3f1",
   "metadata": {},
   "outputs": [],
   "source": [
    "def pnrvalidate(element):\n",
    "    if element:\n",
    "        element=str(element).strip()\n",
    "        return len(element)==6 and element.isalnum()\n",
    "    else:\n",
    "        return False  "
   ]
  },
  {
   "cell_type": "code",
   "execution_count": 6,
   "id": "456e1ffc",
   "metadata": {},
   "outputs": [],
   "source": [
    "def validation_error_log(l,error):\n",
    "    for a in l:\n",
    "        if a in reason.keys():\n",
    "            reason[a]+=error\n",
    "        else:\n",
    "            reason[a]=error"
   ]
  },
  {
   "cell_type": "code",
   "execution_count": 7,
   "id": "19826b0d",
   "metadata": {},
   "outputs": [
    {
     "name": "stdout",
     "output_type": "stream",
     "text": [
      "  First_name Last_name     PNR Fare_class Travel_date  Pax Ticketing_date  \\\n",
      "0   Abhishek     Kumar  ABC123          F  2019-07-31    2     2019-05-21   \n",
      "2    Radhika    Suresh  ZZZ345          T  2019-05-31    4     2019-05-21   \n",
      "3    Kalyani       Ben  A1B2C3          M  2019-04-30    1     2019-05-21   \n",
      "4    Somnath     Batra  X1Y2Z4          Z  2019-07-25    3     2019-05-23   \n",
      "\n",
      "              Email  Mobile_phone    Booked_cabin  \n",
      "0  abhishek@zzz.com    9876543210         Economy  \n",
      "2       radhika@zzz    9876543212        Business  \n",
      "3    ​kben@zzz.com​    9876543213  PremiumEconomy  \n",
      "4    sbatra@zzz.com    9876543214         Economy  \n",
      "{1: 'PNR corrupted;'}\n"
     ]
    }
   ],
   "source": [
    "boolpnrvalidate=df['PNR'].astype(str).apply(lambda x:pnrvalidate(x))\n",
    "l=list(df[np.logical_not(boolpnrvalidate)].index)\n",
    "if len(l)>0:\n",
    "    validation_error_log(l,'PNR corrupted;')\n",
    "\n",
    "df=df[boolpnrvalidate]\n",
    "print(df)\n",
    "print(reason)"
   ]
  },
  {
   "cell_type": "code",
   "execution_count": 8,
   "id": "27f72656",
   "metadata": {},
   "outputs": [],
   "source": [
    "def mobilevalidate(element):\n",
    "    if element:\n",
    "        return len(element)==10 and element.isalnum()\n",
    "    else:\n",
    "        return False"
   ]
  },
  {
   "cell_type": "code",
   "execution_count": 9,
   "id": "c663ddbc",
   "metadata": {},
   "outputs": [
    {
     "name": "stdout",
     "output_type": "stream",
     "text": [
      "  First_name Last_name     PNR Fare_class Travel_date  Pax Ticketing_date  \\\n",
      "0   Abhishek     Kumar  ABC123          F  2019-07-31    2     2019-05-21   \n",
      "2    Radhika    Suresh  ZZZ345          T  2019-05-31    4     2019-05-21   \n",
      "3    Kalyani       Ben  A1B2C3          M  2019-04-30    1     2019-05-21   \n",
      "4    Somnath     Batra  X1Y2Z4          Z  2019-07-25    3     2019-05-23   \n",
      "\n",
      "              Email  Mobile_phone    Booked_cabin  \n",
      "0  abhishek@zzz.com    9876543210         Economy  \n",
      "2       radhika@zzz    9876543212        Business  \n",
      "3    ​kben@zzz.com​    9876543213  PremiumEconomy  \n",
      "4    sbatra@zzz.com    9876543214         Economy  \n",
      "{1: 'PNR corrupted;'}\n"
     ]
    }
   ],
   "source": [
    "boolmobilevalidate=df['Mobile_phone'].astype(str).apply(lambda x:mobilevalidate(x))\n",
    "l=list(df[np.logical_not(boolmobilevalidate)].index)\n",
    "if len(l)>0:\n",
    "    validation_error_log(l,'Mobile phone value corrupted;')\n",
    "df=df[boolmobilevalidate]\n",
    "print(df)\n",
    "print(reason)"
   ]
  },
  {
   "cell_type": "code",
   "execution_count": 10,
   "id": "205bb990",
   "metadata": {},
   "outputs": [
    {
     "name": "stdout",
     "output_type": "stream",
     "text": [
      "  First_name Last_name     PNR Fare_class Travel_date  Pax Ticketing_date  \\\n",
      "0   Abhishek     Kumar  ABC123          F  2019-07-31    2     2019-05-21   \n",
      "2    Radhika    Suresh  ZZZ345          T  2019-05-31    4     2019-05-21   \n",
      "4    Somnath     Batra  X1Y2Z4          Z  2019-07-25    3     2019-05-23   \n",
      "\n",
      "              Email  Mobile_phone Booked_cabin  \n",
      "0  abhishek@zzz.com    9876543210      Economy  \n",
      "2       radhika@zzz    9876543212     Business  \n",
      "4    sbatra@zzz.com    9876543214      Economy  \n",
      "{1: 'PNR corrupted;', 3: 'Travel date value corrupted;'}\n"
     ]
    }
   ],
   "source": [
    "\n",
    "booldatevalidate=pd.to_datetime(df['Travel_date'], utc=True).dt.strftime('%Y-%m-%d %H:%M:%S')>=pd.to_datetime(df['Ticketing_date'], utc=True).dt.strftime('%Y-%m-%d %H:%M:%S')\n",
    "l=list(df[np.logical_not(booldatevalidate)].index)\n",
    "if len(l)>0:\n",
    "    validation_error_log(l,'Travel date value corrupted;')\n",
    "df=df[booldatevalidate]\n",
    "print(df)\n",
    "print(reason)"
   ]
  },
  {
   "cell_type": "code",
   "execution_count": 11,
   "id": "15ee70c4",
   "metadata": {},
   "outputs": [
    {
     "name": "stdout",
     "output_type": "stream",
     "text": [
      "  First_name Last_name     PNR Fare_class Travel_date  Pax Ticketing_date  \\\n",
      "0   Abhishek     Kumar  ABC123          F  2019-07-31    2     2019-05-21   \n",
      "2    Radhika    Suresh  ZZZ345          T  2019-05-31    4     2019-05-21   \n",
      "4    Somnath     Batra  X1Y2Z4          Z  2019-07-25    3     2019-05-23   \n",
      "\n",
      "              Email  Mobile_phone Booked_cabin  \n",
      "0  abhishek@zzz.com    9876543210      Economy  \n",
      "2       radhika@zzz    9876543212     Business  \n",
      "4    sbatra@zzz.com    9876543214      Economy  \n",
      "{1: 'PNR corrupted;', 3: 'Travel date value corrupted;'}\n"
     ]
    }
   ],
   "source": [
    "boolemailvalidate=df['Email'].astype(str).apply(lambda x:validate_email(x))\n",
    "l=list(df[np.logical_not(boolemailvalidate)].index)\n",
    "if len(l)>0:\n",
    "    validation_error_log(l,'Email value corrupted;')\n",
    "df=df[boolemailvalidate]\n",
    "print(df)\n",
    "print(reason)"
   ]
  },
  {
   "cell_type": "code",
   "execution_count": 12,
   "id": "79a91de0",
   "metadata": {},
   "outputs": [
    {
     "name": "stdout",
     "output_type": "stream",
     "text": [
      "  First_name Last_name     PNR Fare_class Travel_date  Pax Ticketing_date  \\\n",
      "0   Abhishek     Kumar  ABC123          F  2019-07-31    2     2019-05-21   \n",
      "2    Radhika    Suresh  ZZZ345          T  2019-05-31    4     2019-05-21   \n",
      "4    Somnath     Batra  X1Y2Z4          Z  2019-07-25    3     2019-05-23   \n",
      "\n",
      "              Email  Mobile_phone Booked_cabin  \n",
      "0  abhishek@zzz.com    9876543210      Economy  \n",
      "2       radhika@zzz    9876543212     Business  \n",
      "4    sbatra@zzz.com    9876543214      Economy  \n",
      "{1: 'PNR corrupted;', 3: 'Travel date value corrupted;'}\n"
     ]
    }
   ],
   "source": [
    "\n",
    "boolcabinvalidate=df['Booked_cabin'].apply(lambda x:str(x) in cabin)\n",
    "l=list(df[np.logical_not(boolcabinvalidate)].index)\n",
    "if len(l)>0:\n",
    "    validation_error_log(l,'Booked cabin value corrupted;')\n",
    "df=df[boolcabinvalidate]\n",
    "print(df)\n",
    "print(reason)"
   ]
  },
  {
   "cell_type": "markdown",
   "id": "196a1945",
   "metadata": {},
   "source": [
    "Fare class A - E will\n",
    "have discount code OFFER_20, F - K will have discount code OFFER_30, L - R will have OFFER_25;\n",
    "rest will have no offer code"
   ]
  },
  {
   "cell_type": "markdown",
   "id": "29a266d8",
   "metadata": {},
   "source": [
    "# Add Fareclass to validated data"
   ]
  },
  {
   "cell_type": "code",
   "execution_count": 13,
   "id": "64686fc8",
   "metadata": {},
   "outputs": [],
   "source": [
    "def code(el):\n",
    "    el=str(el)\n",
    "    if el>='A' and el <= 'E':\n",
    "        return \"OFFER_20\"\n",
    "    elif el>='F' and el <= 'K':\n",
    "        return \"OFFER_30\"\n",
    "    elif el>='L' and el <= 'R':\n",
    "        return \"OFFER_25\"\n",
    "    else:\n",
    "        return None\n",
    "    "
   ]
  },
  {
   "cell_type": "code",
   "execution_count": 14,
   "id": "fce0a924",
   "metadata": {},
   "outputs": [],
   "source": [
    "df['Discount_code']=df['Fare_class'].apply(code)"
   ]
  },
  {
   "cell_type": "code",
   "execution_count": 15,
   "id": "1c868d7f",
   "metadata": {},
   "outputs": [
    {
     "name": "stdout",
     "output_type": "stream",
     "text": [
      "  First_name Last_name     PNR Fare_class Travel_date  Pax Ticketing_date  \\\n",
      "0   Abhishek     Kumar  ABC123          F  2019-07-31    2     2019-05-21   \n",
      "2    Radhika    Suresh  ZZZ345          T  2019-05-31    4     2019-05-21   \n",
      "4    Somnath     Batra  X1Y2Z4          Z  2019-07-25    3     2019-05-23   \n",
      "\n",
      "              Email  Mobile_phone Booked_cabin Discount_code  \n",
      "0  abhishek@zzz.com    9876543210      Economy      OFFER_30  \n",
      "2       radhika@zzz    9876543212     Business          None  \n",
      "4    sbatra@zzz.com    9876543214      Economy          None  \n"
     ]
    }
   ],
   "source": [
    "column_validated = [a for a in list(df.index) if a not in list(reason.keys())]\n",
    "validated = df.loc[column_validated]\n",
    "print(validated)"
   ]
  },
  {
   "cell_type": "code",
   "execution_count": 16,
   "id": "e490d578",
   "metadata": {},
   "outputs": [],
   "source": [
    "invalidated=dfo.loc[list(reason.keys()),:]"
   ]
  },
  {
   "cell_type": "code",
   "execution_count": 17,
   "id": "f122637b",
   "metadata": {},
   "outputs": [],
   "source": [
    "invalidated[\"validation_failure_reason\"]=reason"
   ]
  },
  {
   "cell_type": "code",
   "execution_count": 18,
   "id": "75f7c415",
   "metadata": {},
   "outputs": [
    {
     "name": "stdout",
     "output_type": "stream",
     "text": [
      "  First_name Last_name     PNR Fare_class Travel_date  Pax Ticketing_date  \\\n",
      "1      Monin    Sankar   PQ234          C  2019-08-30    2     2019-05-22   \n",
      "3    Kalyani       Ben  A1B2C3          M  2019-04-30    1     2019-05-21   \n",
      "\n",
      "            Email  Mobile_phone    Booked_cabin     validation_failure_reason  \n",
      "1   monin@zzz.com    9876543211         Economy                PNR corrupted;  \n",
      "3  ​kben@zzz.com​    9876543213  PremiumEconomy  Travel date value corrupted;  \n"
     ]
    }
   ],
   "source": [
    "invalidated[\"validation_failure_reason\"].replace(reason, inplace=True)\n",
    "print(invalidated)"
   ]
  },
  {
   "cell_type": "markdown",
   "id": "94b6e5d4",
   "metadata": {},
   "source": [
    "# Export Validated and invalidated data to separate files"
   ]
  },
  {
   "cell_type": "code",
   "execution_count": 19,
   "id": "16283275",
   "metadata": {},
   "outputs": [],
   "source": [
    "\n",
    "validated.to_csv(r'validated.csv',index=False)\n",
    "invalidated.to_csv(r'invalidated.csv',index=False)"
   ]
  }
 ],
 "metadata": {
  "kernelspec": {
   "display_name": "Python 3",
   "language": "python",
   "name": "python3"
  },
  "language_info": {
   "codemirror_mode": {
    "name": "ipython",
    "version": 3
   },
   "file_extension": ".py",
   "mimetype": "text/x-python",
   "name": "python",
   "nbconvert_exporter": "python",
   "pygments_lexer": "ipython3",
   "version": "3.8.5"
  }
 },
 "nbformat": 4,
 "nbformat_minor": 5
}
